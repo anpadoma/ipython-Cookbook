{
 "metadata": {
  "name": "",
  "signature": "sha256:d7efebb6b70ee54eb42f081e4c16f817b4bd09807eba35ced364a46b4bc0203f"
 },
 "nbformat": 3,
 "nbformat_minor": 0,
 "worksheets": [
  {
   "cells": [
    {
     "cell_type": "markdown",
     "metadata": [],
     "source": [
      "> This is one of the 100 recipes of the [IPython Cookbook](http://ipython-books.github.io/), the definitive guide to high-performance scientific computing and data science in Python.\n"
     ]
    },
    {
     "cell_type": "markdown",
     "metadata": {},
     "source": [
      "# 1.1. Introducing the IPython notebook"
     ]
    },
    {
     "cell_type": "markdown",
     "metadata": {},
     "source": [
      "1. We assume that you have installed a Python distribution with IPython, and that you are now in an IPython notebook. Type in a cell the following command, and press `Shift+Enter` to validate it:"
     ]
    },
    {
     "cell_type": "code",
     "collapsed": false,
     "input": [
      "print(\"Hello world!\")"
     ],
     "language": "python",
     "metadata": {},
     "outputs": [
      {
       "output_type": "stream",
       "stream": "stdout",
       "text": [
        "Hello world!\n"
       ]
      }
     ],
     "prompt_number": 1
    },
    {
     "cell_type": "markdown",
     "metadata": {},
     "source": [
      "A notebook contains a linear succession of **cells** and **output areas**. A cell contains Python code, in one or multiple lines. The output of the code is shown in the corresponding output area."
     ]
    },
    {
     "cell_type": "markdown",
     "metadata": {},
     "source": [
      "2. Now, we do a simple arithmetic operation."
     ]
    },
    {
     "cell_type": "code",
     "collapsed": false,
     "input": [
      "2+2"
     ],
     "language": "python",
     "metadata": {},
     "outputs": [
      {
       "metadata": {},
       "output_type": "pyout",
       "prompt_number": 2,
       "text": [
        "4"
       ]
      }
     ],
     "prompt_number": 2
    },
    {
     "cell_type": "markdown",
     "metadata": {},
     "source": [
      "The result of the operation is shown in the output area. Let's be more precise. The output area not only displays text that is printed by any command in the cell, it also displays a text representation of the last returned object. Here, the last returned object is the result of `2+2`, i.e. `4`."
     ]
    },
    {
     "cell_type": "markdown",
     "metadata": {},
     "source": [
      "3. In the next cell, we can recover the value of the last returned object with the `_` (underscore) special variable. In practice, it may be more convenient to assign objects to named variables, like in `myresult = 2+2`."
     ]
    },
    {
     "cell_type": "code",
     "collapsed": false,
     "input": [
      "_ * 3"
     ],
     "language": "python",
     "metadata": {},
     "outputs": [
      {
       "metadata": {},
       "output_type": "pyout",
       "prompt_number": 3,
       "text": [
        "12"
       ]
      }
     ],
     "prompt_number": 3
    },
    {
     "cell_type": "markdown",
     "metadata": {},
     "source": [
      "4. IPython not only accepts Python code, but also shell commands. Those are defined by the operating system (Windows, Linux, Mac OS X, etc.). We first type `!` in a cell before typing the shell command. Here, we get the list of notebooks in the current directory."
     ]
    },
    {
     "cell_type": "code",
     "collapsed": false,
     "input": [
      "!dir *.ipynb"
     ],
     "language": "python",
     "metadata": {},
     "outputs": [
      {
       "output_type": "stream",
       "stream": "stdout",
       "text": [
        " Volume in drive D has no label.\n",
        " Volume Serial Number is 4640-2971\n",
        "\n",
        " Directory of d:\\python_R\\ipython_cookbook\\cookbook-code\\notebooks\\chapter01_basic\n",
        "\n",
        "2014-12-21  20:07            13\u02d9089 01_notebook.ipynb\n",
        "2014-12-21  20:07             8\u02d9982 02_pandas.ipynb\n",
        "2014-12-21  20:07             8\u02d9920 03_numpy.ipynb\n",
        "2014-12-21  20:07             7\u02d9282 04_magic.ipynb\n",
        "2014-12-21  20:07             6\u02d9958 05_config.ipynb\n",
        "2014-12-21  20:07            13\u02d9825 06_kernel.ipynb\n",
        "               6 File(s)         59\u02d9056 bytes\n",
        "               0 Dir(s)  105\u02d9269\u02d9653\u02d9504 bytes free\n"
       ]
      }
     ],
     "prompt_number": 5
    },
    {
     "cell_type": "markdown",
     "metadata": {},
     "source": [
      "5. IPython comes with a library of **magic commands**. Those commands are convenient shortcuts to common actions. They all start with `%` (percent character). You can get the list of all magic commands with `%lsmagic`."
     ]
    },
    {
     "cell_type": "code",
     "collapsed": false,
     "input": [
      "%lsmagic"
     ],
     "language": "python",
     "metadata": {},
     "outputs": [
      {
       "json": [
        "{\"line\": {\"killbgscripts\": \"ScriptMagics\", \"psource\": \"NamespaceMagics\", \"pfile\": \"NamespaceMagics\", \"ldir\": \"Other\", \"system\": \"OSMagics\", \"load\": \"CodeMagics\", \"more\": \"KernelMagics\", \"who_ls\": \"NamespaceMagics\", \"loadpy\": \"CodeMagics\", \"pushd\": \"OSMagics\", \"env\": \"OSMagics\", \"logstate\": \"LoggingMagics\", \"logstart\": \"LoggingMagics\", \"rerun\": \"HistoryMagics\", \"install_default_config\": \"DeprecatedMagics\", \"logoff\": \"LoggingMagics\", \"install_ext\": \"ExtensionMagics\", \"logstop\": \"LoggingMagics\", \"rmdir\": \"Other\", \"doctest_mode\": \"KernelMagics\", \"pinfo2\": \"NamespaceMagics\", \"pwd\": \"OSMagics\", \"qtconsole\": \"KernelMagics\", \"bookmark\": \"OSMagics\", \"cd\": \"OSMagics\", \"store\": \"StoreMagics\", \"ed\": \"Other\", \"pylab\": \"PylabMagics\", \"reload_ext\": \"ExtensionMagics\", \"precision\": \"BasicMagics\", \"config\": \"ConfigMagics\", \"save\": \"CodeMagics\", \"notebook\": \"BasicMagics\", \"unload_ext\": \"ExtensionMagics\", \"gui\": \"BasicMagics\", \"reset_selective\": \"NamespaceMagics\", \"lsmagic\": \"BasicMagics\", \"whos\": \"NamespaceMagics\", \"automagic\": \"AutoMagics\", \"page\": \"BasicMagics\", \"pdef\": \"NamespaceMagics\", \"sx\": \"OSMagics\", \"pinfo\": \"NamespaceMagics\", \"install_profiles\": \"DeprecatedMagics\", \"who\": \"NamespaceMagics\", \"ddir\": \"Other\", \"dirs\": \"OSMagics\", \"unalias\": \"OSMagics\", \"copy\": \"Other\", \"pdoc\": \"NamespaceMagics\", \"ls\": \"Other\", \"dhist\": \"OSMagics\", \"magic\": \"BasicMagics\", \"cls\": \"KernelMagics\", \"debug\": \"ExecutionMagics\", \"reset\": \"NamespaceMagics\", \"less\": \"KernelMagics\", \"pdb\": \"ExecutionMagics\", \"popd\": \"OSMagics\", \"logon\": \"LoggingMagics\", \"timeit\": \"ExecutionMagics\", \"ren\": \"Other\", \"time\": \"ExecutionMagics\", \"echo\": \"Other\", \"matplotlib\": \"PylabMagics\", \"mkdir\": \"Other\", \"edit\": \"KernelMagics\", \"pycat\": \"OSMagics\", \"autosave\": \"KernelMagics\", \"history\": \"HistoryMagics\", \"pprint\": \"BasicMagics\", \"autocall\": \"AutoMagics\", \"sc\": \"OSMagics\", \"tb\": \"ExecutionMagics\", \"rep\": \"Other\", \"alias\": \"OSMagics\", \"macro\": \"ExecutionMagics\", \"alias_magic\": \"BasicMagics\", \"connect_info\": \"KernelMagics\", \"run\": \"ExecutionMagics\", \"pastebin\": \"CodeMagics\", \"load_ext\": \"ExtensionMagics\", \"colors\": \"BasicMagics\", \"hist\": \"Other\", \"recall\": \"HistoryMagics\", \"psearch\": \"NamespaceMagics\", \"quickref\": \"BasicMagics\", \"prun\": \"ExecutionMagics\", \"xdel\": \"NamespaceMagics\", \"rehashx\": \"OSMagics\", \"clear\": \"KernelMagics\", \"profile\": \"BasicMagics\", \"xmode\": \"BasicMagics\"}, \"cell\": {\"script\": \"ScriptMagics\", \"svg\": \"DisplayMagics\", \"latex\": \"DisplayMagics\", \"timeit\": \"ExecutionMagics\", \"python3\": \"Other\", \"!\": \"OSMagics\", \"system\": \"OSMagics\", \"bash\": \"Other\", \"python2\": \"Other\", \"sh\": \"Other\", \"perl\": \"Other\", \"time\": \"ExecutionMagics\", \"debug\": \"ExecutionMagics\", \"html\": \"DisplayMagics\", \"writefile\": \"OSMagics\", \"javascript\": \"DisplayMagics\", \"cmd\": \"Other\", \"capture\": \"ExecutionMagics\", \"prun\": \"ExecutionMagics\", \"powershell\": \"Other\", \"SVG\": \"Other\", \"pypy\": \"Other\", \"sx\": \"OSMagics\", \"python\": \"Other\", \"HTML\": \"Other\", \"file\": \"Other\", \"ruby\": \"Other\"}}"
       ],
       "metadata": {},
       "output_type": "pyout",
       "prompt_number": 6,
       "text": [
        "Available line magics:\n",
        "%alias  %alias_magic  %autocall  %automagic  %autosave  %bookmark  %cd  %clear  %cls  %colors  %config  %connect_info  %copy  %ddir  %debug  %dhist  %dirs  %doctest_mode  %echo  %ed  %edit  %env  %gui  %hist  %history  %install_default_config  %install_ext  %install_profiles  %killbgscripts  %ldir  %less  %load  %load_ext  %loadpy  %logoff  %logon  %logstart  %logstate  %logstop  %ls  %lsmagic  %macro  %magic  %matplotlib  %mkdir  %more  %notebook  %page  %pastebin  %pdb  %pdef  %pdoc  %pfile  %pinfo  %pinfo2  %popd  %pprint  %precision  %profile  %prun  %psearch  %psource  %pushd  %pwd  %pycat  %pylab  %qtconsole  %quickref  %recall  %rehashx  %reload_ext  %ren  %rep  %rerun  %reset  %reset_selective  %rmdir  %run  %save  %sc  %store  %sx  %system  %tb  %time  %timeit  %unalias  %unload_ext  %who  %who_ls  %whos  %xdel  %xmode\n",
        "\n",
        "Available cell magics:\n",
        "%%!  %%HTML  %%SVG  %%bash  %%capture  %%cmd  %%debug  %%file  %%html  %%javascript  %%latex  %%perl  %%powershell  %%prun  %%pypy  %%python  %%python2  %%python3  %%ruby  %%script  %%sh  %%svg  %%sx  %%system  %%time  %%timeit  %%writefile\n",
        "\n",
        "Automagic is ON, % prefix IS NOT needed for line magics."
       ]
      }
     ],
     "prompt_number": 6
    },
    {
     "cell_type": "markdown",
     "metadata": {},
     "source": [
      "Cell magic have a `%%` prefix: they apply to an entire cell in the notebook."
     ]
    },
    {
     "cell_type": "markdown",
     "metadata": {},
     "source": [
      "6. For example, the `%%writefile` cell magic lets you create a text file easily. This magic command accepts a filename as argument. All remaining lines in the cell are directly written to this text file. Here, we create a file `test.txt` and we write `Hello world!` in it."
     ]
    },
    {
     "cell_type": "code",
     "collapsed": false,
     "input": [
      "%%writefile test.txt\n",
      "Hello world!"
     ],
     "language": "python",
     "metadata": {},
     "outputs": [
      {
       "output_type": "stream",
       "stream": "stdout",
       "text": [
        "Overwriting test.txt\n"
       ]
      }
     ],
     "prompt_number": 7
    },
    {
     "cell_type": "code",
     "collapsed": false,
     "input": [
      "# Let's check what this file contains.\n",
      "with open('test.txt', 'r') as f:\n",
      "    print(f.read())"
     ],
     "language": "python",
     "metadata": {},
     "outputs": [
      {
       "output_type": "stream",
       "stream": "stdout",
       "text": [
        "Hello world!\n"
       ]
      }
     ],
     "prompt_number": 8
    },
    {
     "cell_type": "markdown",
     "metadata": {},
     "source": [
      "7. As you can see in the output of `%lsmagic`, there are many magic commands in IPython. You can find more information about any command by adding a `?` after it. For example, here is how we get help about the `%run` magic command:"
     ]
    },
    {
     "cell_type": "code",
     "collapsed": false,
     "input": [
      "# You can omit this, it is just to force help output\n",
      "# to print in the standard output, rather than \n",
      "# in the pager. This might change in future versions\n",
      "# of IPython.\n",
      "from __future__ import print_function\n",
      "from IPython.core import page\n",
      "page.page = print"
     ],
     "language": "python",
     "metadata": {
      "style": "hidden"
     },
     "outputs": []
    },
    {
     "cell_type": "code",
     "collapsed": false,
     "input": [
      "%run?"
     ],
     "language": "python",
     "metadata": {
      "strip_output": [
       10,
       10
      ]
     },
     "outputs": [],
     "prompt_number": 9
    },
    {
     "cell_type": "markdown",
     "metadata": {},
     "source": [
      "8. We covered the basics of IPython and the notebook. Let's now turn to the rich display and interactive features of the notebook. Until now, we only created **code cells**, i.e. cells that contain... code. There are other types of cells, notably **Markdown cells**. Those contain rich text formatted with **Markdown**, a popular plain text formatting syntax. This format supports normal text, headers, bold, italics, hypertext links, images, mathematical equations in LaTeX, code, HTML elements, and other features, as shown below."
     ]
    },
    {
     "cell_type": "raw",
     "metadata": {},
     "source": [
      "### New paragraph\n",
      "\n",
      "This is *rich* **text** with [links](http://ipython.org), equations:\n",
      "\n",
      "$$\\hat{f}(\\xi) = \\int_{-\\infty}^{+\\infty} f(x)\\, \\mathrm{e}^{-i \\xi x}$$\n",
      "\n",
      "code with syntax highlighting:\n",
      "\n",
      "```python\n",
      "print(\"Hello world!\")\n",
      "```\n",
      "\n",
      "and images:\n",
      "\n",
      "![This is an image](http://ipython.org/_static/IPy_header.png)"
     ]
    },
    {
     "cell_type": "markdown",
     "metadata": {
      "style": "hidden"
     },
     "source": [
      "### New paragraph\n",
      "\n",
      "This is *rich* **text** with [links](http://ipython.org), equations:\n",
      "\n",
      "$$\\hat{f}(\\xi) = \\int_{-\\infty}^{+\\infty} f(x)\\, \\mathrm{e}^{-i \\xi x}$$\n",
      "\n",
      "code with syntax highlighting:\n",
      "\n",
      "```python\n",
      "print(\"Hello world!\")\n",
      "```\n",
      "\n",
      "and images:\n",
      "\n",
      "![This is an image](http://ipython.org/_static/IPy_header.png)"
     ]
    },
    {
     "cell_type": "markdown",
     "metadata": {},
     "source": [
      "By combining code cells and Markdown cells, you can create a standalone interactive document that combines computations (code), text and graphics."
     ]
    },
    {
     "cell_type": "markdown",
     "metadata": {},
     "source": [
      "9. That was it for Markdown cells. IPython also comes with a sophisticated display system that lets you insert rich web elements in the notebook. Here, we show how to add HTML, SVG (Scalable Vector Graphics) and even Youtube videos in a notebook."
     ]
    },
    {
     "cell_type": "markdown",
     "metadata": {},
     "source": [
      "First, we need to import some classes."
     ]
    },
    {
     "cell_type": "code",
     "collapsed": false,
     "input": [
      "from IPython.display import HTML, SVG, YouTubeVideo"
     ],
     "language": "python",
     "metadata": {},
     "outputs": [],
     "prompt_number": 10
    },
    {
     "cell_type": "markdown",
     "metadata": {},
     "source": [
      "We create an HTML table dynamically with Python, and we display it in the (HTML-based) notebook."
     ]
    },
    {
     "cell_type": "code",
     "collapsed": false,
     "input": [
      "HTML('''\n",
      "<table style=\"border: 2px solid black;\">\n",
      "''' + \n",
      "''.join(['<tr>' + \n",
      "         ''.join(['<td>{row},{col}</td>'.format(\n",
      "            row=row, col=col\n",
      "            ) for col in range(5)]) +\n",
      "         '</tr>' for row in range(5)]) +\n",
      "'''\n",
      "</table>\n",
      "''')"
     ],
     "language": "python",
     "metadata": {},
     "outputs": [
      {
       "html": [
        "\n",
        "<table style=\"border: 2px solid black;\">\n",
        "<tr><td>0,0</td><td>0,1</td><td>0,2</td><td>0,3</td><td>0,4</td></tr><tr><td>1,0</td><td>1,1</td><td>1,2</td><td>1,3</td><td>1,4</td></tr><tr><td>2,0</td><td>2,1</td><td>2,2</td><td>2,3</td><td>2,4</td></tr><tr><td>3,0</td><td>3,1</td><td>3,2</td><td>3,3</td><td>3,4</td></tr><tr><td>4,0</td><td>4,1</td><td>4,2</td><td>4,3</td><td>4,4</td></tr>\n",
        "</table>\n"
       ],
       "metadata": {},
       "output_type": "pyout",
       "prompt_number": 11,
       "text": [
        "<IPython.core.display.HTML at 0x59e9978>"
       ]
      }
     ],
     "prompt_number": 11
    },
    {
     "cell_type": "markdown",
     "metadata": {},
     "source": [
      "Similarly here, we create a SVG graphics dynamically."
     ]
    },
    {
     "cell_type": "code",
     "collapsed": false,
     "input": [
      "SVG('''<svg width=\"600\" height=\"80\">''' + \n",
      "''.join(['''<circle cx=\"{x}\" cy=\"{y}\" r=\"{r}\"\n",
      "        fill=\"red\" stroke-width=\"2\" stroke=\"black\">\n",
      "        </circle>'''.format(\n",
      "            x=(30+3*i)*(10-i), y=30, r=3.*float(i)\n",
      "        ) for i in range(10)]) + \n",
      "'''</svg>''')"
     ],
     "language": "python",
     "metadata": {},
     "outputs": [
      {
       "metadata": {},
       "output_type": "pyout",
       "prompt_number": 12,
       "svg": [
        "<svg height=\"80\" width=\"600\"><circle cx=\"300\" cy=\"30\" fill=\"red\" r=\"0.0\" stroke=\"black\" stroke-width=\"2\">\n",
        "        </circle><circle cx=\"297\" cy=\"30\" fill=\"red\" r=\"3.0\" stroke=\"black\" stroke-width=\"2\">\n",
        "        </circle><circle cx=\"288\" cy=\"30\" fill=\"red\" r=\"6.0\" stroke=\"black\" stroke-width=\"2\">\n",
        "        </circle><circle cx=\"273\" cy=\"30\" fill=\"red\" r=\"9.0\" stroke=\"black\" stroke-width=\"2\">\n",
        "        </circle><circle cx=\"252\" cy=\"30\" fill=\"red\" r=\"12.0\" stroke=\"black\" stroke-width=\"2\">\n",
        "        </circle><circle cx=\"225\" cy=\"30\" fill=\"red\" r=\"15.0\" stroke=\"black\" stroke-width=\"2\">\n",
        "        </circle><circle cx=\"192\" cy=\"30\" fill=\"red\" r=\"18.0\" stroke=\"black\" stroke-width=\"2\">\n",
        "        </circle><circle cx=\"153\" cy=\"30\" fill=\"red\" r=\"21.0\" stroke=\"black\" stroke-width=\"2\">\n",
        "        </circle><circle cx=\"108\" cy=\"30\" fill=\"red\" r=\"24.0\" stroke=\"black\" stroke-width=\"2\">\n",
        "        </circle><circle cx=\"57\" cy=\"30\" fill=\"red\" r=\"27.0\" stroke=\"black\" stroke-width=\"2\">\n",
        "        </circle></svg>"
       ],
       "text": [
        "<IPython.core.display.SVG at 0x59e9a90>"
       ]
      }
     ],
     "prompt_number": 12
    },
    {
     "cell_type": "markdown",
     "metadata": {},
     "source": [
      "Finally, we display a Youtube video by giving its identifier to `YoutubeVideo`."
     ]
    },
    {
     "cell_type": "code",
     "collapsed": false,
     "input": [
      "YouTubeVideo('j9YpkSX7NNM')"
     ],
     "language": "python",
     "metadata": {},
     "outputs": [
      {
       "html": [
        "\n",
        "        <iframe\n",
        "            width=\"400\"\n",
        "            height=300\"\n",
        "            src=\"https://www.youtube.com/embed/j9YpkSX7NNM\"\n",
        "            frameborder=\"0\"\n",
        "            allowfullscreen\n",
        "        ></iframe>\n",
        "        "
       ],
       "metadata": {},
       "output_type": "pyout",
       "prompt_number": 13,
       "text": [
        "<IPython.lib.display.YouTubeVideo at 0x5c42f98>"
       ]
      }
     ],
     "prompt_number": 13
    },
    {
     "cell_type": "markdown",
     "metadata": {},
     "source": [
      "10. Now, we illustrate the latest interactive features in IPython 2.0+. This version brings graphical widgets in the notebook that can interact with Python objects. We will create a drop-down menu allowing us to display one among several videos."
     ]
    },
    {
     "cell_type": "code",
     "collapsed": false,
     "input": [
      "from collections import OrderedDict\n",
      "from IPython.display import display, clear_output\n",
      "from IPython.html.widgets import DropdownWidget"
     ],
     "language": "python",
     "metadata": {},
     "outputs": [],
     "prompt_number": 14
    },
    {
     "cell_type": "code",
     "collapsed": false,
     "input": [
      "# We create a DropdownWidget, with a dictionary containing\n",
      "# the keys (video name) and the values (Youtube identifier) \n",
      "# of every menu item.\n",
      "dw = DropdownWidget(values=OrderedDict([\n",
      "                        ('SciPy 2012', 'iwVvqwLDsJo'), \n",
      "                        ('PyCon 2012', '2G5YTlheCbw'),\n",
      "                        ('SciPy 2013', 'j9YpkSX7NNM')]))\n",
      "# We create a callback function that displays the requested\n",
      "# Youtube video.\n",
      "def on_value_change(name, val):\n",
      "    clear_output()\n",
      "    display(YouTubeVideo(val))\n",
      "# Every time the user selects an item, the function\n",
      "# `on_value_change` is called, and the `val` argument\n",
      "# contains the value of the selected item.\n",
      "dw.on_trait_change(on_value_change, 'value')\n",
      "# We choose a default value.\n",
      "dw.value = dw.values['SciPy 2013']\n",
      "# Finally, we display the widget.\n",
      "display(dw)"
     ],
     "language": "python",
     "metadata": {},
     "outputs": [
      {
       "html": [
        "\n",
        "        <iframe\n",
        "            width=\"400\"\n",
        "            height=300\"\n",
        "            src=\"https://www.youtube.com/embed/2G5YTlheCbw\"\n",
        "            frameborder=\"0\"\n",
        "            allowfullscreen\n",
        "        ></iframe>\n",
        "        "
       ],
       "metadata": {},
       "output_type": "display_data",
       "text": [
        "<IPython.lib.display.YouTubeVideo at 0x5d6d5f8>"
       ]
      }
     ],
     "prompt_number": 15
    },
    {
     "cell_type": "markdown",
     "metadata": {},
     "source": [
      "The interactive features of IPython 2.0 bring a whole new dimension in the notebook, and we can expect many developments in the months and years to come."
     ]
    },
    {
     "cell_type": "markdown",
     "metadata": {},
     "source": [
      "> You'll find all the explanations, figures, references, and much more in the book (to be released later this summer).\n",
      "\n",
      "> [IPython Cookbook](http://ipython-books.github.io/), by [Cyrille Rossant](http://cyrille.rossant.net), Packt Publishing, 2014 (500 pages)."
     ]
    }
   ],
   "metadata": {}
  }
 ]
}